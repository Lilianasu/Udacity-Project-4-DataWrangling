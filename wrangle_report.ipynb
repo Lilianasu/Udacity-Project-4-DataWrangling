{
 "cells": [
  {
   "cell_type": "markdown",
   "metadata": {},
   "source": [
    "## Wrangle Report\n",
    "\n",
    "The presented Jupyter Notebook is intended to show three of the main processes in data analysis:\n",
    "- Gathering data\n",
    "- Assessing data\n",
    "- Cleaning data \n",
    "\n",
    "Our gathered data is:\n",
    "- twitter-archive-enhanced.csv\n",
    "Handled directly\n",
    "- twitter-archive-enhanced.csv'\n",
    "Obtained programmatically through the requests library from a hosted server.\n",
    "- tweet_json.txt\n",
    "Obtained through the Twitter's API Tweepy \n",
    "\n",
    "After the assesment, the next observations arose:\n",
    "#### Quality\n",
    "1. Retweets are not needed (rows)\n",
    "2. Columns related to retweeted info are not needed\n",
    "3. in_reply_to columns have wrong datatypes \n",
    "4. Timestamp has object (string) data type\n",
    "5. The values in the source column have the whole `<a href>` tags \n",
    "6. Fix the strange rating numerators\n",
    "7. Denominators different than 10 have different issues\n",
    "8. The `doggo`, `floofer`, `pupper`, `puppo` columns are values, not variable names\n",
    "9. Change the prediction data column names for more descriptive ones\n",
    "10. Handling missing info after merging tables\n",
    "11. Change the underscores in predictions by spaces\n",
    "\n",
    "#### Tidiness\n",
    "a) Join the image prediction data to twitter_archive_clean table\n",
    "b) Join the retweet count and favorite count to twitter_archive_clean table\n",
    "\n",
    "\n",
    "## Analysis and visualization\n",
    "After performing their respective cleaning, the next visualizations are performed:\n",
    "\n",
    "#### 1. Which interface are tweets being sent from?\n",
    "\n",
    "This shows that the most used interface is Twitter for iPhone, a mobile interface, and the less used is TweetDeck, a desktop interface\n",
    "#### 2. Top 10 tweeted dog breeds\n",
    "\n",
    "There is a clear favorite: most tweets are about golden retrievers. \n",
    "\n",
    "In second place, labrador retrievers, pembroke, and chihuahua dogs appear to have cool tweets.\n",
    "\n",
    "Pugs occupy the third place in tweets sent to WeRateDogs. \n",
    "\n",
    "#### 3. Rating means variation by breed\n",
    "\n",
    "The rating means given by WeRateDogs vary between 9 and 12.5\n",
    "#### 4. Top 10 Rating means by breed\n",
    "\n",
    "We notice the top rated breeds are different from the top tweeted breeds, and almost all ratings stay around 9 and 12 and a half. \n",
    "\n",
    "For me, WeRateDogs seem to have no noticeable preference for some particular breeds.\n"
   ]
  },
  {
   "cell_type": "markdown",
   "metadata": {},
   "source": [
    "This report was elaborated by Liliana Hirugame for the Udacity Data Analyst Udacity Nanodegree, as part of the Wrangle and Analyze Project.\n",
    "\n",
    "December 2018"
   ]
  },
  {
   "cell_type": "code",
   "execution_count": null,
   "metadata": {},
   "outputs": [],
   "source": []
  }
 ],
 "metadata": {
  "kernelspec": {
   "display_name": "Python [conda env:anaconda3]",
   "language": "python",
   "name": "conda-env-anaconda3-py"
  },
  "language_info": {
   "codemirror_mode": {
    "name": "ipython",
    "version": 3
   },
   "file_extension": ".py",
   "mimetype": "text/x-python",
   "name": "python",
   "nbconvert_exporter": "python",
   "pygments_lexer": "ipython3",
   "version": "3.6.5"
  }
 },
 "nbformat": 4,
 "nbformat_minor": 2
}
